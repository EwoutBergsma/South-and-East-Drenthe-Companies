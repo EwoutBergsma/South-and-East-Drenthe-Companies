{
 "cells": [
  {
   "cell_type": "markdown",
   "metadata": {},
   "source": [
    "# Instructions:\n",
    "- Check the instructions in the README.md in the root of this repository\n",
    "- Run all code in sequence\n",
    "- :D"
   ]
  },
  {
   "cell_type": "code",
   "execution_count": 60,
   "metadata": {},
   "outputs": [],
   "source": [
    "from bs4 import BeautifulSoup\n",
    "import re\n",
    "import pandas as pd\n",
    "import glob\n",
    "import os\n",
    "import requests\n",
    "import openpyxl\n"
   ]
  },
  {
   "cell_type": "markdown",
   "metadata": {},
   "source": [
    "# Loading All the HTML files"
   ]
  },
  {
   "cell_type": "code",
   "execution_count": 22,
   "metadata": {},
   "outputs": [],
   "source": [
    "# Create directory to store the html files\n",
    "os.makedirs('html', exist_ok=True)\n",
    "# Use glob to find all the html files in the html directory\n",
    "html_files = glob.glob('html/*.html')"
   ]
  },
  {
   "cell_type": "markdown",
   "metadata": {},
   "source": [
    "# Obtain all company names, their website URLs, and GPS coordinates, from the html files"
   ]
  },
  {
   "cell_type": "code",
   "execution_count": null,
   "metadata": {},
   "outputs": [
    {
     "name": "stdout",
     "output_type": "stream",
     "text": [
      "Company names: ['Flink IT', 'Consult IT!', 'Mones IT', 'Quality ICT', 'Koopmans IT', 'ATL IT Diensten', 'ADJUST-IT', 'sense-it BV', 'Emit IT', 'Vechtdal IT', 'Reverse IT', 'Uptodate-IT', 'Veteris IT Services', 'Aalders IT', 'ASM-IT', 'Ready4IT', 'Hoogeveen Laptop Center (Solutions IT Drenthe)', 'MKByte IT services', 'Arcus IT Drenthe', 'Flink It Bv', 'W&T IT Solutions UG', 'Visolity', 'Jellema ITrainingen', 'NLS-IT', 'i-Beheer ®', 'IT-Memo', 'MisterIggy', 'IT Hub', 'Nova IT', 'Just ICT', 'ICTDrenthe', 'MKB IT', 'BinC2 B.V.', 'Business IT-Rent B.V.', 'IT Worxx', 'Gerr-IT', 'Focus ICT B.V.', 'CDM-iT', 'Netwarc ICT Services', 'Kiestra.com', 'Avalon IT', 'BITS Dalen', 'Spreen ICT', 'Heeyoo Hoogeveen', 'IT services', 'I-Datacenter B.V.', 'Gouman IT Solutions', 'Y A F S E C', 'IT Emporium', 'Ping IT Works', 'Akkro ICT', 'Reality ICT', 'ICT Prima', 'Service ICT Sil Sieljes', 'Doornbos Agra-IT', 'Qontrol-it B.V.', 'Ziva IT BV', 'ASM-IT', 'Hartmann Automatisering BV', 'Vuturo ICT B.V.', 'Roma holding bv', 'RSE telecom & ICT Emmen', 'Bp it Solutions', 'PH Automatisering', 'a28 Services', 'Beket Consultancy', 'Nidaros', 'Brakels It', 'Anbizz Consultancy', 'MediaVents Hindriks', 'Huijgen-IT', 'Light Speed Services', 'Erik Bakker Computer Services', '4C Creative CAD CAM Consultants', 'Lucas Computer Services', 'janning networks', 'Trifulent B.V.', 'Bvo-it', 'Nobis-IT', 'Trends ICT Groep', 'Techniekmeister', 'Infracom ICT (Emmen)', 'Clean it now', 'Storage Architects BV', 'ISE ( Internet Service Emmen )', 'Plus Automatisering BV', 'MB-IT GmbH', 'Vereniging WijkKlikEmmerhout', 'Jan Voerman Graphic IT Support', 'Nail It by Willisa', 'JSE ict-experts', 'Yard-it B.V.', 'Euro Discount - Euro Business Coevorden', 'Bloemert IT', 'Solca IT Beveiliging & ICT', 'Vobyte B.V.', 'Michel-IT', 'Helder IT', 'VENOS Computers & ICT-diensten', 'Forcys', 'Fuse IT', 'Raymond Jansen Testconsultancy', 'Kattenberg-IT', 'AllBidigit Group Noord B.V.', 'X-Puter Automatisering', 'Reindeer IT Solutions', 'BDO Emmen, Accountants & Adviseurs', 'Bruinsma ICT', 'Corlido Group', 'Mirage - IT-Management & Consultancy B.V.', 'Neevice IT Solutions', 'PrimaPC', 'IT Service Groningen', 'PHP it', 'HiPro Solutions', 'grEw-it', 'Driven-IT', 'vd Velde IT Consultancy', 'Status 418', 'ITR Groningen']\n",
      "Company URLs: ['http://www.flinkit.nl/', 'http://www.consultit.nl/', '', 'https://www.qict.nl/', 'http://www.koopmans-it.net/', 'http://www.atl-it.nl/', 'https://www.adjust-it.nl/', 'http://www.sense-it.nl/', 'http://www.emit-it.com/', 'http://vechtdal-it.nl/', 'https://reverse-it.net/?utm_source=gmb&utm_medium=organic&utm_campaign=gmb', 'http://www.uptodate-it.nl/', 'http://www.veteris.nl/', 'http://www.aaldersit.nl/', 'http://www.asm-it.nl/', 'http://www.ready4it.nl/', 'https://www.solutions-it.nl/', 'https://m-desk.nl/', 'https://www.arcusit.nl/', '', 'https://www.wut-it.de/', 'http://www.visolity.nl/', 'http://www.jellemaitrainingen.com/', 'http://www.nls-it.nl/', 'http://www.i-beheer.nl/', '', '', 'https://www.it-hub.nl/', 'http://www.novait.nl/', 'https://www.just-ict.nl/', 'https://www.ictdrenthe.nl/', 'https://www.mkbit.nl/', 'http://www.binc2.nl/', 'http://www.businessitrent.nl/', 'http://www.itworxx.nl/', 'https://www.gerr-it.online/', '', 'https://cdm-it.nl/', '', 'http://www.kiestra.com/', 'http://www.avalon-it.nl/', 'https://bitsdalen.nl/', 'http://www.spreenict.nl/', 'https://heeyoo.nl/', '', 'http://www.connectdatacenters.com/', 'http://www.gouman-it.nl/', '', 'https://itemporium.eu/', 'http://www.pingitworks.nl/', 'http://www.wirelessfarm.nl/', 'https://www.realityict.nl/', 'https://ictprima.nl/', 'http://service-ict.nl/', 'http://www.doornbosagra-it.nl/', 'http://www.qontrol-it.nl/', 'https://www.ziva-it.nl/', '', 'http://www.hartmannautomatisering.nl/', 'http://vuturo.nl/', '', 'https://www.rsetelecom-ict.nl/', '', 'http://www.phautomatisering.nl/', 'https://a28services.com/', 'https://beketconsultancy.nl/', 'http://www.nidaros.nl/', 'https://brakels-it.nl/', 'http://www.anbizz.nl/', 'http://www.mediavents.nl/', 'https://www.huijgen-it.nl/', 'https://www.lightspeedservices.nl/', '', 'https://4cccc.nl/', 'http://www.lucascomputers.nl/', 'http://www.janning.info/', 'http://www.arjenroelofs.nl/', '', 'https://www.nobis-it.nl/', 'https://www.trends.nl/', 'http://techniekmeister.nl/', 'https://www.infracom.nl/', '', 'http://www.storagearchitects.nl/', '', 'https://plusautomatisering.nl/?utm_source=google&utm_medium=organic&utm_campaign=gmb', 'https://www.mb-it.de/', 'http://www.wijkklikemmerhout.nl/', 'http://www.janvoerman.com/', '', 'https://www.jse.nl/?utm_source=google&utm_medium=organic&utm_campaign=mijnbedrijf', 'https://www.yard-it.nl/', 'http://www.eurodiscount.nl/', 'http://www.bloemert.it/', '', 'https://www.vobyte.nl/', 'https://www.michel-it.nl/', '', 'http://www.venos.nl/', 'https://forcys.nl/', 'https://www.fuse-it.nu/', 'http://www.raymondjansen.nl/', '', 'http://www.allbidigit.nl/', 'http://www.x-puter.nl/', 'http://www.reindeer-it.nl/', 'https://www.bdo.nl/nl-nl/locaties/emmen', 'http://bruinsma-ict.nl/', 'https://www.corlidogroup.com/', 'http://www.mirage-it-management.nl/', 'https://www.neevice.nl/', 'http://www.primapc.nl/', 'https://itsgroningen.nl/', 'http://www.php-it.nl/', '', 'http://www.grew-it.nl/', 'http://www.driven-it.nl/', 'https://vdvelde-it.nl/', 'https://www.status418.nl/', 'https://www.itrgroningen.nl/']\n",
      "Google URLs: ['https://www.google.com/maps/place/Flink+IT/data=!4m7!3m6!1s0x47b7ef53beb0255f:0x4f2f2645a08cd409!8m2!3d52.7546298!4d6.9195541!16s%2Fg%2F11c0xxbm5v!19sChIJXyWwvlPvt0cRCdSMoEUmL08?authuser=0&hl=nl&rclk=1', 'https://www.google.com/maps/place/Consult+IT!/data=!4m7!3m6!1s0x47b7e8de53891a9b:0xccda4cbc2596459e!8m2!3d52.7747289!4d6.9675812!16s%2Fg%2F11cn332zn0!19sChIJmxqJU97ot0cRnkWWJbxM2sw?authuser=0&hl=nl&rclk=1', 'https://www.google.com/maps/place/Mones+IT/data=!4m7!3m6!1s0x47b7e761bc48437b:0x3f06c217451a81!8m2!3d52.844738!4d6.852898!16s%2Fg%2F1w3w23lt!19sChIJe0NIvGHnt0cRgRpFF8IGPwA?authuser=0&hl=nl&rclk=1', 'https://www.google.com/maps/place/Quality+ICT/data=!4m7!3m6!1s0x47b7e8a425ea286d:0x5ac7a1c8de86c0a4!8m2!3d52.7722495!4d6.9193257!16s%2Fg%2F11fx91n_mz!19sChIJbSjqJaTot0cRpMCG3sihx1o?authuser=0&hl=nl&rclk=1', 'https://www.google.com/maps/place/Koopmans+IT/data=!4m7!3m6!1s0x47c83dd80e271d1d:0x94a42bf8c7edf271!8m2!3d52.860129!4d6.402219!16s%2Fg%2F11bwc519xy!19sChIJHR0nDtg9yEcRcfLtx_grpJQ?authuser=0&hl=nl&rclk=1', 'https://www.google.com/maps/place/ATL+IT+Diensten/data=!4m7!3m6!1s0x47c81bd6f67e6f8b:0x13af778bb8543e96!8m2!3d52.7182221!4d6.5089931!16s%2Fg%2F11j6tlllhl!19sChIJi29-9tYbyEcRlj5UuIt3rxM?authuser=0&hl=nl&rclk=1', 'https://www.google.com/maps/place/ADJUST-IT/data=!4m7!3m6!1s0x47c81b39348f4755:0x876c08669f292b2e!8m2!3d52.7270307!4d6.4966939!16s%2Fg%2F11c6dvglgq!19sChIJVUePNDkbyEcRLispn2YIbIc?authuser=0&hl=nl&rclk=1', 'https://www.google.com/maps/place/sense-it+BV/data=!4m7!3m6!1s0x47b7e61ab090ca7f:0xa94d49ced31d5cbc!8m2!3d52.7707968!4d6.9016578!16s%2Fg%2F1tdwtrwm!19sChIJf8qQsBrmt0cRvFwd085JTak?authuser=0&hl=nl&rclk=1', 'https://www.google.com/maps/place/Emit+IT/data=!4m7!3m6!1s0x47b7e7404c59eef7:0xd3b76186a92b3b5f!8m2!3d52.7765841!4d6.8889842!16s%2Fg%2F11k6ktb1jy!19sChIJ9-5ZTEDnt0cRXzsrqYZht9M?authuser=0&hl=nl&rclk=1', 'https://www.google.com/maps/place/Vechtdal+IT/data=!4m7!3m6!1s0x47c803be82666721:0xd69ac44878e8beb9!8m2!3d52.645174!4d6.5619046!16s%2Fg%2F11mb0zckq7!19sChIJIWdmgr4DyEcRub7oeEjEmtY?authuser=0&hl=nl&rclk=1', 'https://www.google.com/maps/place/Reverse+IT/data=!4m7!3m6!1s0x47b7e5dcb8af6433:0x6819dafa7b63c5cb!8m2!3d52.7511381!4d6.8765167!16s%2Fg%2F11cjn74nkw!19sChIJM2SvuNzlt0cRy8Vje_raGWg?authuser=0&hl=nl&rclk=1', 'https://www.google.com/maps/place/Uptodate-IT/data=!4m7!3m6!1s0x47c80301d069a1f7:0xc288ca2a78f48651!8m2!3d52.6406417!4d6.5870913!16s%2Fg%2F1tgdmtbf!19sChIJ96Fp0AEDyEcRUYb0eCrKiMI?authuser=0&hl=nl&rclk=1', 'https://www.google.com/maps/place/Veteris+IT+Services/data=!4m7!3m6!1s0x47b7fcec456cb4e3:0xf45e47f68b854e00!8m2!3d52.6538588!4d6.7418851!16s%2Fg%2F11ckbv_lv0!19sChIJ47RsRez8t0cRAE6Fi_ZHXvQ?authuser=0&hl=nl&rclk=1', 'https://www.google.com/maps/place/Aalders+IT/data=!4m7!3m6!1s0x47c803450bf35c5b:0xb79760e1b19c4872!8m2!3d52.6796435!4d6.5756782!16s%2Fg%2F1tgyvywx!19sChIJW1zzC0UDyEcRckicseFgl7c?authuser=0&hl=nl&rclk=1', 'https://www.google.com/maps/place/ASM-IT/data=!4m7!3m6!1s0x47b7ef6f8f15530f:0x8c562db82753c2c5!8m2!3d52.7316647!4d6.9139692!16s%2Fg%2F11m89bcjqj!19sChIJD1MVj2_vt0cRxcJTJ7gtVow?authuser=0&hl=nl&rclk=1', 'https://www.google.com/maps/place/Ready4IT/data=!4m7!3m6!1s0x47b7fd1fc205c257:0xc05addeb72533f98!8m2!3d52.660873!4d6.734756!16s%2Fg%2F1wtbszd4!19sChIJV8IFwh_9t0cRmD9TcuvdWsA?authuser=0&hl=nl&rclk=1', 'https://www.google.com/maps/place/Hoogeveen+Laptop+Center+%28Solutions+IT+Drenthe%29/data=!4m7!3m6!1s0x47c81b242ca9ad29:0x3957340eefe9fa97!8m2!3d52.720579!4d6.4761822!16s%2Fg%2F11sq86jrps!19sChIJKa2pLCQbyEcRl_rp7w40Vzk?authuser=0&hl=nl&rclk=1', 'https://www.google.com/maps/place/MKByte+IT+services/data=!4m7!3m6!1s0x47b7e7dc6e2e32e5:0x9328fdabc4bda955!8m2!3d52.8184113!4d6.9171683!16s%2Fg%2F1tpc70z1!19sChIJ5TIubtznt0cRVam9xKv9KJM?authuser=0&hl=nl&rclk=1', 'https://www.google.com/maps/place/Arcus+IT+Drenthe/data=!4m7!3m6!1s0x47b7e97bf1a6b539:0x282c5b5276758656!8m2!3d52.7782829!4d6.9428687!16s%2Fg%2F11nh4mc98m!19sChIJObWm8Xvpt0cRVoZ1dlJbLCg?authuser=0&hl=nl&rclk=1', 'https://www.google.com/maps/place/Flink+It+Bv/data=!4m7!3m6!1s0x47b7e8a6fa3aaaab:0x73769b3b9a5fd43!8m2!3d52.7722239!4d6.9190702!16s%2Fg%2F11h50mtwx1!19sChIJq6o6-qbot0cRQ_2lubNpNwc?authuser=0&hl=nl&rclk=1', 'https://www.google.com/maps/place/W%26T+IT+Solutions+UG/data=!4m7!3m6!1s0x4ca1ca11325586a5:0xf22147b50ae3ba4f!8m2!3d52.8100017!4d7.1016832!16s%2Fg%2F11lnwsjftq!19sChIJpYZVMhHKoUwRT7rjCrVHIfI?authuser=0&hl=nl&rclk=1', 'https://www.google.com/maps/place/Visolity/data=!4m7!3m6!1s0x47b7e8ae096edde5:0x603c73df171b567d!8m2!3d52.778734!4d6.9434657!16s%2Fg%2F1tffndx3!19sChIJ5d1uCa7ot0cRfVYbF99zPGA?authuser=0&hl=nl&rclk=1', 'https://www.google.com/maps/place/Jellema+ITrainingen/data=!4m7!3m6!1s0x47c7e60606012cc1:0x27b2defb961f499e!8m2!3d52.7550665!4d6.889511!16s%2Fg%2F1tdrwkd6!19sChIJwSwBBgbmx0cRnkkflvvesic?authuser=0&hl=nl&rclk=1', 'https://www.google.com/maps/place/NLS-IT/data=!4m7!3m6!1s0x47b7e77dab0c026b:0x334bb18a5050c178!8m2!3d52.774914!4d6.8980616!16s%2Fg%2F11qsr16sjl!19sChIJawIMq33nt0cReMFQUIqxSzM?authuser=0&hl=nl&rclk=1', 'https://www.google.com/maps/place/i-Beheer+%C2%AE/data=!4m7!3m6!1s0x47b7fcef4a784c7d:0x65aab7cd6ad43ae7!8m2!3d52.6559927!4d6.7347397!16s%2Fg%2F1thd5rsz!19sChIJfUx4Su_8t0cR5zrUas23qmU?authuser=0&hl=nl&rclk=1', 'https://www.google.com/maps/place/IT-Memo/data=!4m7!3m6!1s0x47b7e8bd28dc3e99:0x25a707db369a1371!8m2!3d52.7768128!4d6.9306757!16s%2Fg%2F11g9fl3rb4!19sChIJmT7cKL3ot0cRcROaNtsHpyU?authuser=0&hl=nl&rclk=1', 'https://www.google.com/maps/place/MisterIggy/data=!4m7!3m6!1s0x47c818164b0d9271:0x153d46d17d6d4963!8m2!3d52.8462683!4d6.5158568!16s%2Fg%2F1v41zq2w!19sChIJcZINSxYYyEcRY0ltfdFGPRU?authuser=0&hl=nl&rclk=1', 'https://www.google.com/maps/place/IT+Hub/data=!4m7!3m6!1s0x47c81b804920b7c7:0xdeb837b5ef16f9eb!8m2!3d52.7313711!4d6.470668!16s%2Fg%2F11tcm0htly!19sChIJx7cgSYAbyEcR6_kW77U3uN4?authuser=0&hl=nl&rclk=1', 'https://www.google.com/maps/place/Nova+IT/data=!4m7!3m6!1s0x47c81a963fa5b1f9:0x6df4465ca4324086!8m2!3d52.7887292!4d6.8969394!16s%2Fg%2F1tf06xs0!19sChIJ-bGlP5YayEcRhkAypFxG9G0?authuser=0&hl=nl&rclk=1', 'https://www.google.com/maps/place/Just+ICT/data=!4m7!3m6!1s0x47b7effba379ae97:0xec755df70a2c868!8m2!3d52.7392884!4d6.8790184!16s%2Fg%2F11fk8fn4v0!19sChIJl655o_vvt0cRaMiicN9Vxw4?authuser=0&hl=nl&rclk=1', 'https://www.google.com/maps/place/ICTDrenthe/data=!4m7!3m6!1s0x47c81cd6672fc129:0x800560a3b6d4a10a!8m2!3d52.6963764!4d6.6151418!16s%2Fg%2F11c2mr6g1p!19sChIJKcEvZ9YcyEcRCqHUtqNgBYA?authuser=0&hl=nl&rclk=1', 'https://www.google.com/maps/place/MKB+IT/data=!4m7!3m6!1s0x47b7e6103200dec5:0x1d92944ed04aa6c3!8m2!3d52.7721259!4d6.9194098!16s%2Fg%2F1tgcqyxd!19sChIJxd4AMhDmt0cRw6ZK0E6Ukh0?authuser=0&hl=nl&rclk=1', 'https://www.google.com/maps/place/BinC2+B.V./data=!4m7!3m6!1s0x47c8181442388dc5:0xfb3ec83148a5ac23!8m2!3d52.8530208!4d6.530208!16s%2Fg%2F1tkb4bvp!19sChIJxY04QhQYyEcRI6ylSDHIPvs?authuser=0&hl=nl&rclk=1', 'https://www.google.com/maps/place/Business+IT-Rent+B.V./data=!4m7!3m6!1s0x47c81a91d703c40b:0x98d0e90c72d16cf!8m2!3d52.7294222!4d6.4778788!16s%2Fg%2F1tdh7pm8!19sChIJC8QD15EayEcRzxYtx5AOjQk?authuser=0&hl=nl&rclk=1', 'https://www.google.com/maps/place/IT+Worxx/data=!4m7!3m6!1s0x47b7e5ddad2f365b:0xa10ed6c1f8d1b5ab!8m2!3d52.753577!4d6.877765!16s%2Fg%2F12vshq6xx!19sChIJWzYvrd3lt0cRq7XR-MHWDqE?authuser=0&hl=nl&rclk=1', 'https://www.google.com/maps/place/Gerr-IT/data=!4m7!3m6!1s0xa34a0797cdd1703b:0x803bf3e47399f107!8m2!3d52.7028225!4d6.5394416!16s%2Fg%2F11rd38rcfz!19sChIJO3DRzZcHSqMRB_GZc-TzO4A?authuser=0&hl=nl&rclk=1', 'https://www.google.com/maps/place/Focus+ICT+B.V./data=!4m7!3m6!1s0x47c81a91d703c40b:0xcba369e750e290f6!8m2!3d52.7294222!4d6.4778788!16s%2Fg%2F1tfbs3mj!19sChIJC8QD15EayEcR9pDiUOdpo8s?authuser=0&hl=nl&rclk=1', 'https://www.google.com/maps/place/CDM-iT/data=!4m7!3m6!1s0x47b7e5dd9892f937:0x7bc59dcafb6d821a!8m2!3d52.7529658!4d6.8805824!16s%2Fg%2F1vg_bycg!19sChIJN_mSmN3lt0cRGoJt-8qdxXs?authuser=0&hl=nl&rclk=1', 'https://www.google.com/maps/place/Netwarc+ICT+Services/data=!4m7!3m6!1s0x47c81ae73609604b:0xdccaf8c87d0bbab1!8m2!3d52.7187685!4d6.505366!16s%2Fg%2F1tfjdsl1!19sChIJS2AJNucayEcRsboLfcj4ytw?authuser=0&hl=nl&rclk=1', 'https://www.google.com/maps/place/Kiestra.com/data=!4m7!3m6!1s0x47c81b0b29dd75dd:0x9625a740bdf0c0fc!8m2!3d52.734034!4d6.543496!16s%2Fg%2F1v27trbb!19sChIJ3XXdKQsbyEcR_MDwvUCnJZY?authuser=0&hl=nl&rclk=1', 'https://www.google.com/maps/place/Avalon+IT/data=!4m7!3m6!1s0x47c86a1175028c95:0x37e27fc6d2c30f4b!8m2!3d52.83874!4d6.379765!16s%2Fg%2F1hc3f9155!19sChIJlYwCdRFqyEcRSw_D0sZ_4jc?authuser=0&hl=nl&rclk=1', 'https://www.google.com/maps/place/BITS+Dalen/data=!4m7!3m6!1s0x47b7e3094f9e3b5b:0xfda41f4536c160cd!8m2!3d52.6983173!4d6.7591541!16s%2Fg%2F11g0vz2y76!19sChIJWzueTwnjt0cRzWDBNkUfpP0?authuser=0&hl=nl&rclk=1', 'https://www.google.com/maps/place/Spreen+ICT/data=!4m7!3m6!1s0x47c81afc94ea633b:0x33a3720a377b832e!8m2!3d52.7389055!4d6.4815189!16s%2Fg%2F1yglp_j57!19sChIJO2PqlPwayEcRLoN7NwpyozM?authuser=0&hl=nl&rclk=1', 'https://www.google.com/maps/place/Heeyoo+Hoogeveen/data=!4m7!3m6!1s0x47c81b47a7ac2bad:0x803eba0a7197746e!8m2!3d52.7269616!4d6.4963703!16s%2Fg%2F11g0nsglnn!19sChIJrSusp0cbyEcRbnSXcQq6PoA?authuser=0&hl=nl&rclk=1', 'https://www.google.com/maps/place/IT+services/data=!4m7!3m6!1s0x47b7ef3143adf509:0x1581773a81410851!8m2!3d52.7501499!4d6.9453685!16s%2Fg%2F12hn57t08!19sChIJCfWtQzHvt0cRUQhBgTp3gRU?authuser=0&hl=nl&rclk=1', 'https://www.google.com/maps/place/I-Datacenter+B.V./data=!4m7!3m6!1s0x47b7fcef4a784c7d:0x9836f94c2e7d6410!8m2!3d52.6559951!4d6.7347349!16s%2Fg%2F11cn3w3bmk!19sChIJfUx4Su_8t0cREGR9Lkz5Npg?authuser=0&hl=nl&rclk=1', 'https://www.google.com/maps/place/Gouman+IT+Solutions/data=!4m7!3m6!1s0x47b7e594cf8c0001:0x398ca90a1ece20ea!8m2!3d52.7687458!4d6.8924103!16s%2Fg%2F11fmqby7j8!19sChIJAQCMz5Tlt0cR6iDOHgqpjDk?authuser=0&hl=nl&rclk=1', 'https://www.google.com/maps/place/Y+A+F+S+E+C/data=!4m7!3m6!1s0x47c80662a5ad387b:0xae9698f7f825dece!8m2!3d52.7318285!4d6.4810775!16s%2Fg%2F11c1hwwkdf!19sChIJezitpWIGyEcRzt4l-PeYlq4?authuser=0&hl=nl&rclk=1', 'https://www.google.com/maps/place/IT+Emporium/data=!4m7!3m6!1s0x47c811aed517fc13:0x1ca8a794ae1cd429!8m2!3d52.7639565!4d6.3950225!16s%2Fg%2F11kqtp4snc!19sChIJE_wX1a4RyEcRKdQcrpSnqBw?authuser=0&hl=nl&rclk=1', 'https://www.google.com/maps/place/Ping+IT+Works/data=!4m7!3m6!1s0x47c81b00523a0e03:0x78e192af0a99fa84!8m2!3d52.7308856!4d6.4998748!16s%2Fg%2F11f5hl5x9b!19sChIJAw46UgAbyEcRhPqZCq-S4Xg?authuser=0&hl=nl&rclk=1', 'https://www.google.com/maps/place/Akkro+ICT/data=!4m7!3m6!1s0x47b7e13eb995430d:0x126f427255563b28!8m2!3d52.7920205!4d6.7863423!16s%2Fg%2F1hc0vrfkt!19sChIJDUOVuT7ht0cRKDtWVXJCbxI?authuser=0&hl=nl&rclk=1', 'https://www.google.com/maps/place/Reality+ICT/data=!4m7!3m6!1s0x47c81802ebdd90c7:0xc1e639599bb81099!8m2!3d52.8627901!4d6.4952034!16s%2Fg%2F1hg4qz9gs!19sChIJx5Dd6wIYyEcRmRC4m1k55sE?authuser=0&hl=nl&rclk=1', 'https://www.google.com/maps/place/ICT+Prima/data=!4m7!3m6!1s0x47b7e5fa88c19817:0xeb8347e6d64072c4!8m2!3d52.7555443!4d7.0477639!16s%2Fg%2F11hbbspjhx!19sChIJF5jBiPrlt0cRxHJA1uZHg-s?authuser=0&hl=nl&rclk=1', 'https://www.google.com/maps/place/Service+ICT+Sil+Sieljes/data=!4m7!3m6!1s0x47c8038b4f754cfb:0x8ed04e9dba602e09!8m2!3d52.628935!4d6.553381!16s%2Fg%2F1thf7tf8!19sChIJ-0x1T4sDyEcRCS5gup1O0I4?authuser=0&hl=nl&rclk=1', 'https://www.google.com/maps/place/Doornbos+Agra-IT/data=!4m7!3m6!1s0x47b7e5fe9d17ea85:0x2851b96c377f5090!8m2!3d52.7558754!4d6.9037015!16s%2Fg%2F1vfp2q7k!19sChIJheoXnf7lt0cRkFB_N2y5USg?authuser=0&hl=nl&rclk=1', 'https://www.google.com/maps/place/Qontrol-it+B.V./data=!4m7!3m6!1s0x47b7e610457dfc85:0x6e6b0bd30910bfc1!8m2!3d52.7737136!4d6.8797611!16s%2Fg%2F11gfj567mh!19sChIJhfx9RRDmt0cRwb8QCdMLa24?authuser=0&hl=nl&rclk=1', 'https://www.google.com/maps/place/Ziva+IT+BV/data=!4m7!3m6!1s0x47c8118f5497144b:0x15fd7a06e40c35fc!8m2!3d52.7085454!4d6.4390788!16s%2Fg%2F11frr482g_!19sChIJSxSXVI8RyEcR_DUM5AZ6_RU?authuser=0&hl=nl&rclk=1', 'https://www.google.com/maps/place/ASM-IT/data=!4m7!3m6!1s0x47b7ef30e072b8e9:0x935d4bd361dd100f!8m2!3d52.7486905!4d6.9456164!16s%2Fg%2F11gfkgzq9m!19sChIJ6bhy4DDvt0cRDxDdYdNLXZM?authuser=0&hl=nl&rclk=1', 'https://www.google.com/maps/place/Hartmann+Automatisering+BV/data=!4m7!3m6!1s0x47b7efa8b31f7b59:0x30e3f48615864dfe!8m2!3d52.7478376!4d6.9434677!16s%2Fg%2F11b6c9p1n2!19sChIJWXsfs6jvt0cR_k2GFYb04zA?authuser=0&hl=nl&rclk=1', 'https://www.google.com/maps/place/Vuturo+ICT+B.V./data=!4m7!3m6!1s0x47b7e7a072a8f067:0xeff96999405658eb!8m2!3d52.767543!4d6.9022856!16s%2Fg%2F11j6zyhj1g!19sChIJZ_CocqDnt0cR61hWQJlp-e8?authuser=0&hl=nl&rclk=1', 'https://www.google.com/maps/place/Roma+holding+bv/data=!4m7!3m6!1s0x47b7ef5251fb6257:0xa7734b04705fd2ef!8m2!3d52.7478376!4d6.9434677!16s%2Fg%2F11t3ksrfmx!19sChIJV2L7UVLvt0cR79JfcARLc6c?authuser=0&hl=nl&rclk=1', 'https://www.google.com/maps/place/RSE+telecom+%26+ICT+Emmen/data=!4m7!3m6!1s0x47b7e60530c9938d:0x4bfdd265ccf3eb58!8m2!3d52.7695433!4d6.9024608!16s%2Fg%2F1hc3jvkjt!19sChIJjZPJMAXmt0cRWOvzzGXS_Us?authuser=0&hl=nl&rclk=1', 'https://www.google.com/maps/place/Bp+it+Solutions/data=!4m7!3m6!1s0x47c81a957e7ee257:0x82e0bd29dffeb95d!8m2!3d52.7187967!4d6.4820402!16s%2Fg%2F1ptwl_d38!19sChIJV-J-fpUayEcRXbn-3ym94II?authuser=0&hl=nl&rclk=1', 'https://www.google.com/maps/place/PH+Automatisering/data=!4m7!3m6!1s0x47c81aee485db331:0xfd06a55b507ba970!8m2!3d52.7268814!4d6.4968539!16s%2Fg%2F11c1q3_q4c!19sChIJMbNdSO4ayEcRcKl7UFulBv0?authuser=0&hl=nl&rclk=1', 'https://www.google.com/maps/place/a28+Services/data=!4m7!3m6!1s0x47c81b0f06c8d67d:0x36a2419904343fc!8m2!3d52.7293795!4d6.5284505!16s%2Fg%2F11y1k3kqzw!19sChIJfdbIBg8byEcR_ENDkBkkagM?authuser=0&hl=nl&rclk=1', 'https://www.google.com/maps/place/Beket+Consultancy/data=!4m7!3m6!1s0x47c825104f899217:0xf9b11e5a27f9d8ef!8m2!3d52.8610175!4d6.6127701!16s%2Fg%2F11h4ydkks5!19sChIJF5KJTxAlyEcR79j5J1oesfk?authuser=0&hl=nl&rclk=1', 'https://www.google.com/maps/place/Nidaros/data=!4m7!3m6!1s0x47c81a91565a6275:0x136fc284a4b27ec6!8m2!3d52.7317258!4d6.4805005!16s%2Fg%2F1vs1r349!19sChIJdWJaVpEayEcRxn6ypITCbxM?authuser=0&hl=nl&rclk=1', 'https://www.google.com/maps/place/Brakels+It/data=!4m7!3m6!1s0x47b801822e1781a1:0x596e56c36ba8d35b!8m2!3d52.6451823!4d6.5619746!16s%2Fg%2F1th62g1w!19sChIJoYEXLoIBuEcRW9Ooa8NWblk?authuser=0&hl=nl&rclk=1', 'https://www.google.com/maps/place/Anbizz+Consultancy/data=!4m7!3m6!1s0x47b7e51b3b22ca61:0xe27515d861b0e240!8m2!3d52.7076437!4d6.8524624!16s%2Fg%2F1tkksymk!19sChIJYcoiOxvlt0cRQOKwYdgVdeI?authuser=0&hl=nl&rclk=1', 'https://www.google.com/maps/place/MediaVents+Hindriks/data=!4m7!3m6!1s0x47b7d9850e846b11:0xf57fce4795280059!8m2!3d52.8475795!4d6.7480796!16s%2Fg%2F11jg2fvz3d!19sChIJEWuEDoXZt0cRWQAolUfOf_U?authuser=0&hl=nl&rclk=1', 'https://www.google.com/maps/place/Huijgen-IT/data=!4m7!3m6!1s0x47c802f84e7c8c85:0xcc63b6c3ada8adf2!8m2!3d52.648988!4d6.618163!16s%2Fg%2F11dfq3p197!19sChIJhYx8TvgCyEcR8q2orcO2Y8w?authuser=0&hl=nl&rclk=1', 'https://www.google.com/maps/place/Light+Speed+Services/data=!4m7!3m6!1s0x47b7e3dc5d9d7b47:0x47730484303b696a!8m2!3d52.753077!4d6.7223175!16s%2Fg%2F11cn3vb31g!19sChIJR3udXdzjt0cRamk7MIQEc0c?authuser=0&hl=nl&rclk=1', 'https://www.google.com/maps/place/Erik+Bakker+Computer+Services/data=!4m7!3m6!1s0x47b7e8df087f23c1:0xc3417ea283fa5df2!8m2!3d52.7886241!4d6.9004768!16s%2Fg%2F1tnmqt09!19sChIJwSN_CN_ot0cR8l36g6J-QcM?authuser=0&hl=nl&rclk=1', 'https://www.google.com/maps/place/4C+Creative+CAD+CAM+Consultants/data=!4m7!3m6!1s0x47b7e649d35039d9:0x479a9c7e1fb4c05b!8m2!3d52.7949669!4d6.8921849!16s%2Fg%2F1tm09x1p!19sChIJ2TlQ00nmt0cRW8C0H36cmkc?authuser=0&hl=nl&rclk=1', 'https://www.google.com/maps/place/Lucas+Computer+Services/data=!4m7!3m6!1s0x47b7faa7e4d2cfe7:0xd5e0c0ca877dd3d4!8m2!3d52.664781!4d6.873665!16s%2Fg%2F1tdq9nnf!19sChIJ58_S5Kf6t0cR1NN9h8rA4NU?authuser=0&hl=nl&rclk=1', 'https://www.google.com/maps/place/janning+networks/data=!4m7!3m6!1s0x47b7f6cecd9add3b:0x290d80fb592efb3c!8m2!3d52.61062!4d6.98082!16s%2Fg%2F1tff6pks!19sChIJO92azc72t0cRPPsuWfuADSk?authuser=0&hl=nl&rclk=1', 'https://www.google.com/maps/place/Trifulent+B.V./data=!4m7!3m6!1s0x47c801e681b6d631:0xac5b802d3b040389!8m2!3d52.6068136!4d6.6370994!16s%2Fg%2F1tk62c2z!19sChIJMda2geYByEcRiQMEOy2AW6w?authuser=0&hl=nl&rclk=1', 'https://www.google.com/maps/place/Bvo-it/data=!4m7!3m6!1s0x47b7e9e5226164eb:0x60a964d393c556a2!8m2!3d52.8297109!4d7.0257275!16s%2Fg%2F1td5ks0x!19sChIJ62RhIuXpt0cRolbFk9NkqWA?authuser=0&hl=nl&rclk=1', 'https://www.google.com/maps/place/Nobis-IT/data=!4m7!3m6!1s0x47c8154bc4d02e0f:0x5d4938cfe1f91264!8m2!3d52.8489215!4d6.3358447!16s%2Fg%2F11k6dz_xqb!19sChIJDy7QxEsVyEcRZBL54c84SV0?authuser=0&hl=nl&rclk=1', 'https://www.google.com/maps/place/Trends+ICT+Groep/data=!4m7!3m6!1s0x47c81ad9497cb307:0xafb829deb2f3875a!8m2!3d52.7112461!4d6.5056438!16s%2Fg%2F1thzn41v!19sChIJB7N8SdkayEcRWofzst4puK8?authuser=0&hl=nl&rclk=1', 'https://www.google.com/maps/place/Techniekmeister/data=!4m7!3m6!1s0x47c81b25fe882cc9:0x950c982d3aaff30f!8m2!3d52.7087636!4d6.5064488!16s%2Fg%2F11rr8xhxlg!19sChIJySyI_iUbyEcRD_OvOi2YDJU?authuser=0&hl=nl&rclk=1', 'https://www.google.com/maps/place/Infracom+ICT+%28Emmen%29/data=!4m7!3m6!1s0x47b7e71d1bc752ad:0xb8082036b4ea586f!8m2!3d52.773743!4d6.880198!16s%2Fg%2F11j4ngp8rr!19sChIJrVLHGx3nt0cRb1jqtDYgCLg?authuser=0&hl=nl&rclk=1', 'https://www.google.com/maps/place/Clean+it+now/data=!4m7!3m6!1s0x47b7e6169a20d511:0xf7aa4df40041973!8m2!3d52.7775669!4d6.8959788!16s%2Fg%2F11b73vg5hj!19sChIJEdUgmhbmt0cRcxkEQN-keg8?authuser=0&hl=nl&rclk=1', 'https://www.google.com/maps/place/Storage+Architects+BV/data=!4m7!3m6!1s0x47b7e6100810277f:0x253975993d47eca8!8m2!3d52.7721004!4d6.8981829!16s%2Fg%2F1tn0096f!19sChIJfycQCBDmt0cRqOxHPZl1OSU?authuser=0&hl=nl&rclk=1', 'https://www.google.com/maps/place/ISE+%28+Internet+Service+Emmen+%29/data=!4m7!3m6!1s0x47b7e63e34863bdb:0xfde5d81522c59568!8m2!3d52.7837563!4d6.8943514!16s%2Fg%2F1pp2wy4nx!19sChIJ2zuGND7mt0cRaJXFIhXY5f0?authuser=0&hl=nl&rclk=1', 'https://www.google.com/maps/place/Plus+Automatisering+BV/data=!4m7!3m6!1s0x47c80f85131d1889:0x40909fdcfd16ca16!8m2!3d52.6681192!4d6.4418673!16s%2Fg%2F1td4tj6v!19sChIJiRgdE4UPyEcRFsoW_dyfkEA?authuser=0&hl=nl&rclk=1', 'https://www.google.com/maps/place/MB-IT+GmbH/data=!4m7!3m6!1s0x47b795a54ac92c83:0xa23187bf2392810c!8m2!3d52.7957733!4d7.2148802!16s%2Fg%2F1tks5dbk!19sChIJgyzJSqWVt0cRDIGSI7-HMaI?authuser=0&hl=nl&rclk=1', 'https://www.google.com/maps/place/Vereniging+WijkKlikEmmerhout/data=!4m7!3m6!1s0x47b7e88f662c6a87:0x4122496b20703d0d!8m2!3d52.7935906!4d6.9350631!16s%2Fg%2F11b726v1vg!19sChIJh2osZo_ot0cRDT1wIGtJIkE?authuser=0&hl=nl&rclk=1', 'https://www.google.com/maps/place/Jan+Voerman+Graphic+IT+Support/data=!4m7!3m6!1s0x47c81013f1e055c3:0xb94de3adfdc771e9!8m2!3d52.1909763!4d5.2795551!16s%2Fg%2F1tk8mvdh!19sChIJw1Xg8RMQyEcR6XHH_a3jTbk?authuser=0&hl=nl&rclk=1', 'https://www.google.com/maps/place/Nail+It+by+Willisa/data=!4m7!3m6!1s0x47b7ed04b698aeb5:0xbcabab816d9742e8!8m2!3d52.7195225!4d7.0417066!16s%2Fg%2F11vb62g6vg!19sChIJta6YtgTtt0cR6EKXbYGrq7w?authuser=0&hl=nl&rclk=1', 'https://www.google.com/maps/place/JSE+ict-experts/data=!4m7!3m6!1s0x47b7fde52318c539:0xfd8c5c433abf4ad9!8m2!3d52.6092565!4d6.6671512!16s%2Fg%2F1trc40mk!19sChIJOcUYI-X9t0cR2Uq_OkNcjP0?authuser=0&hl=nl&rclk=1', 'https://www.google.com/maps/place/Yard-it+B.V./data=!4m7!3m6!1s0x47b7d75dc38dcf61:0x26a5add05efae485!8m2!3d52.9954709!4d6.5337875!16s%2Fg%2F1tdr2crt!19sChIJYc-Nw13Xt0cRheT6XtCtpSY?authuser=0&hl=nl&rclk=1', 'https://www.google.com/maps/place/Euro+Discount+-+Euro+Business+Coevorden/data=!4m7!3m6!1s0x47b7fce9f592dadd:0xd3358ead7c5e2fb5!8m2!3d52.6601419!4d6.7409401!16s%2Fg%2F1tdvj7p2!19sChIJ3dqS9en8t0cRtS9efK2ONdM?authuser=0&hl=nl&rclk=1', 'https://www.google.com/maps/place/Bloemert+IT/data=!4m7!3m6!1s0x47c80cb356b93d29:0x73413ffea1c7e32e!8m2!3d52.6293577!4d6.2074434!16s%2Fg%2F1tk4qd56!19sChIJKT25VrMMyEcRLuPHof4_QXM?authuser=0&hl=nl&rclk=1', 'https://www.google.com/maps/place/Solca+IT+Beveiliging+%26+ICT/data=!4m7!3m6!1s0x47b7c184ada4fa33:0xaee9a4f51f2cd41f!8m2!3d52.8743128!4d7.0619809!16s%2Fg%2F1tfcmdvl!19sChIJM_qkrYTBt0cRH9QsH_Wk6a4?authuser=0&hl=nl&rclk=1', 'https://www.google.com/maps/place/Vobyte+B.V./data=!4m7!3m6!1s0x47b7ef4ce6ba38d7:0x2d988364dccae839!8m2!3d52.6142281!4d6.6854771!16s%2Fg%2F1thvrs1n!19sChIJ1zi65kzvt0cROejK3GSDmC0?authuser=0&hl=nl&rclk=1', 'https://www.google.com/maps/place/Michel-IT/data=!4m7!3m6!1s0x47c83dc21ddee371:0xf753597068f58702!8m2!3d52.951489!4d6.4509646!16s%2Fg%2F11h3lft1wd!19sChIJcePeHcI9yEcRAof1aHBZU_c?authuser=0&hl=nl&rclk=1', 'https://www.google.com/maps/place/Helder+IT/data=!4m7!3m6!1s0x47c8073ef765eb0f:0x8a25fa718c35fff9!8m2!3d52.5859918!4d6.4547766!16s%2Fg%2F11j8ns4lnp!19sChIJD-tl9z4HyEcR-f81jHH6JYo?authuser=0&hl=nl&rclk=1', 'https://www.google.com/maps/place/VENOS+Computers+%26+ICT-diensten/data=!4m7!3m6!1s0x47c80efdb863ef91:0xe02dae64003d4a81!8m2!3d52.6527501!4d6.3844311!16s%2Fg%2F1vtzgg61!19sChIJke9juP0OyEcRgUo9AGSuLeA?authuser=0&hl=nl&rclk=1', 'https://www.google.com/maps/place/Forcys/data=!4m7!3m6!1s0x47b7fce093794719:0xaf92b6f76d313475!8m2!3d52.6612625!4d6.7245711!16s%2Fg%2F1tt8bbcc!19sChIJGUd5k-D8t0cRdTQxbfe2kq8?authuser=0&hl=nl&rclk=1', 'https://www.google.com/maps/place/Fuse+IT/data=!4m7!3m6!1s0x47b7c3cd9131b25b:0xa1616694381ad646!8m2!3d52.8834492!4d7.0502341!16s%2Fg%2F11why9lfnc!19sChIJW7Ixkc3Dt0cRRtYaOJRmYaE?authuser=0&hl=nl&rclk=1', 'https://www.google.com/maps/place/Raymond+Jansen+Testconsultancy/data=!4m7!3m6!1s0x47c7d8954cf37d87:0x9b77a251af64e02f!8m2!3d52.6138631!4d6.4360479!16s%2Fg%2F1tnpk7cr!19sChIJh33zTJXYx0cRL-Bkr1Gid5s?authuser=0&hl=nl&rclk=1', 'https://www.google.com/maps/place/Kattenberg-IT/data=!4m7!3m6!1s0x47b7d946fe187dd3:0xa32eae7093c988d6!8m2!3d52.9499957!4d6.8230445!16s%2Fg%2F11cn3wkdj2!19sChIJ030Y_kbZt0cR1ojJk3CuLqM?authuser=0&hl=nl&rclk=1', 'https://www.google.com/maps/place/AllBidigit+Group+Noord+B.V./data=!4m7!3m6!1s0x47b7e630e68ccaf3:0xdf047510bd8b7389!8m2!3d52.793915!4d6.90146!16s%2Fg%2F11b6dqb3_d!19sChIJ88qM5jDmt0cRiXOLvRB1BN8?authuser=0&hl=nl&rclk=1', 'https://www.google.com/maps/place/X-Puter+Automatisering/data=!4m7!3m6!1s0x47b810ad2b2bffff:0xf0d898a39e41aa38!8m2!3d52.6735921!4d6.7314941!16s%2Fg%2F1v7tkfwb!19sChIJ__8rK60QuEcROKpBnqOY2PA?authuser=0&hl=nl&rclk=1', 'https://www.google.com/maps/place/Reindeer+IT+Solutions/data=!4m7!3m6!1s0x47c8135fcd148071:0x49bc311ed1d658db!8m2!3d52.7911952!4d6.2800465!16s%2Fg%2F1wf37vq0!19sChIJcYAUzV8TyEcR21jW0R4xvEk?authuser=0&hl=nl&rclk=1', 'https://www.google.com/maps/place/BDO+Emmen,+Accountants+%26+Adviseurs/data=!4m7!3m6!1s0x47b7e64760ac223d:0x7f0a4bc7b3bd11b2!8m2!3d52.7884074!4d6.8904361!16s%2Fg%2F1w0hzphm!19sChIJPSKsYEfmt0cRshG9s8dLCn8?authuser=0&hl=nl&rclk=1', 'https://www.google.com/maps/place/Bruinsma+ICT/data=!4m7!3m6!1s0x47c801c59394c01f:0xbb6ffbbe16cb4dd1!8m2!3d52.5757993!4d6.5985894!16s%2Fg%2F11h6q4r9nc!19sChIJH8CUk8UByEcR0U3LFr77b7s?authuser=0&hl=nl&rclk=1', 'https://www.google.com/maps/place/Corlido+Group/data=!4m7!3m6!1s0x47b7ef33d7a099cb:0xca425f96ca39df8b!8m2!3d52.7502356!4d6.9454856!16s%2Fg%2F12hnfyhqv!19sChIJy5mg1zPvt0cRi985ypZfQso?authuser=0&hl=nl&rclk=1', 'https://www.google.com/maps/place/Mirage+-+IT-Management+%26+Consultancy+B.V./data=!4m7!3m6!1s0x47b7dc026e189b2d:0x79094e48ce406029!8m2!3d52.9279599!4d6.8429475!16s%2Fg%2F1tl4c2v1!19sChIJLZsYbgLct0cRKWBAzkhOCXk?authuser=0&hl=nl&rclk=1', 'https://www.google.com/maps/place/Neevice+IT+Solutions/data=!4m7!3m6!1s0x47c87395db9fb383:0x4f54fed6e348567d!8m2!3d52.6948437!4d6.201114!16s%2Fg%2F11v0y9pw40!19sChIJg7Of25VzyEcRfVZI49b-VE8?authuser=0&hl=nl&rclk=1', 'https://www.google.com/maps/place/PrimaPC/data=!4m7!3m6!1s0x47c8180feb73bc9f:0xcb34bbadff93bfa5!8m2!3d52.8634667!4d6.5110573!16s%2Fg%2F1tfrwr0y!19sChIJn7xz6w8YyEcRpb-T_627NMs?authuser=0&hl=nl&rclk=1', 'https://www.google.com/maps/place/IT+Service+Groningen/data=!4m7!3m6!1s0x47c9d2e5d2dc81db:0xa2c45e339af1c24e!8m2!3d53.234221!4d6.6256509!16s%2Fg%2F11f3zgf9y4!19sChIJ24Hc0uXSyUcRTsLxmjNexKI?authuser=0&hl=nl&rclk=1', 'https://www.google.com/maps/place/PHP+it/data=!4m7!3m6!1s0x47c873f0879867e1:0xb01487b59ee6964f!8m2!3d52.7111725!4d6.1750052!16s%2Fg%2F11gw016dks!19sChIJ4WeYh_BzyEcRT5bmnrWHFLA?authuser=0&hl=nl&rclk=1', 'https://www.google.com/maps/place/HiPro+Solutions/data=!4m7!3m6!1s0x47b7e54ea366b1b1:0x789f37fb9e0201de!8m2!3d52.767103!4d6.883305!16s%2Fg%2F1tjdvz_4!19sChIJsbFmo07lt0cR3gECnvs3n3g?authuser=0&hl=nl&rclk=1', 'https://www.google.com/maps/place/grEw-it/data=!4m7!3m6!1s0xa569b65e2c5c033b:0xacb4cb97cbdbd582!8m2!3d52.5387297!4d6.6857972!16s%2Fg%2F11p653c6j_!19sChIJOwNcLF62aaURgtXby5fLtKw?authuser=0&hl=nl&rclk=1', 'https://www.google.com/maps/place/Driven-IT/data=!4m7!3m6!1s0x47c86a72c1feead9:0xa11bf67121bf8d6c!8m2!3d52.8756483!4d6.1912185!16s%2Fg%2F1hm585772!19sChIJ2er-wXJqyEcRbI2_IXH2G6E?authuser=0&hl=nl&rclk=1', 'https://www.google.com/maps/place/vd+Velde+IT+Consultancy/data=!4m7!3m6!1s0x8cf3127d77d777b1:0x8d6472b85629f69e!8m2!3d52.1909763!4d5.2795551!16s%2Fg%2F11vjbhyqwd!19sChIJsXfXd30S84wRnvYpVrhyZI0?authuser=0&hl=nl&rclk=1', 'https://www.google.com/maps/place/Status+418/data=!4m7!3m6!1s0x47b7e7f02e09b6ab:0x6befb23ac346ee36!8m2!3d52.7821441!4d6.8931944!16s%2Fg%2F11r7hmj0rv!19sChIJq7YJLvDnt0cRNu5Gwzqy72s?authuser=0&hl=nl&rclk=1', 'https://www.google.com/maps/place/ITR+Groningen/data=!4m7!3m6!1s0x47c9cdd1b52ce2c1:0x129d1d99a57c9ae5!8m2!3d53.2307582!4d6.533709!16s%2Fg%2F11fst6t42n!19sChIJweIstdHNyUcR5Zp8pZkdnRI?authuser=0&hl=nl&rclk=1']\n",
      "GPS Coordinates: [(52.7546298, 6.9195541), (52.7747289, 6.9675812), (52.844738, 6.852898), (52.7722495, 6.9193257), (52.860129, 6.402219), (52.7182221, 6.5089931), (52.7270307, 6.4966939), (52.7707968, 6.9016578), (52.7765841, 6.8889842), (52.645174, 6.5619046), (52.7511381, 6.8765167), (52.6406417, 6.5870913), (52.6538588, 6.7418851), (52.6796435, 6.5756782), (52.7316647, 6.9139692), (52.660873, 6.734756), (52.720579, 6.4761822), (52.8184113, 6.9171683), (52.7782829, 6.9428687), (52.7722239, 6.9190702), (52.8100017, 7.1016832), (52.778734, 6.9434657), (52.7550665, 6.889511), (52.774914, 6.8980616), (52.6559927, 6.7347397), (52.7768128, 6.9306757), (52.8462683, 6.5158568), (52.7313711, 6.470668), (52.7887292, 6.8969394), (52.7392884, 6.8790184), (52.6963764, 6.6151418), (52.7721259, 6.9194098), (52.8530208, 6.530208), (52.7294222, 6.4778788), (52.753577, 6.877765), (52.7028225, 6.5394416), (52.7294222, 6.4778788), (52.7529658, 6.8805824), (52.7187685, 6.505366), (52.734034, 6.543496), (52.83874, 6.379765), (52.6983173, 6.7591541), (52.7389055, 6.4815189), (52.7269616, 6.4963703), (52.7501499, 6.9453685), (52.6559951, 6.7347349), (52.7687458, 6.8924103), (52.7318285, 6.4810775), (52.7639565, 6.3950225), (52.7308856, 6.4998748), (52.7920205, 6.7863423), (52.8627901, 6.4952034), (52.7555443, 7.0477639), (52.628935, 6.553381), (52.7558754, 6.9037015), (52.7737136, 6.8797611), (52.7085454, 6.4390788), (52.7486905, 6.9456164), (52.7478376, 6.9434677), (52.767543, 6.9022856), (52.7478376, 6.9434677), (52.7695433, 6.9024608), (52.7187967, 6.4820402), (52.7268814, 6.4968539), (52.7293795, 6.5284505), (52.8610175, 6.6127701), (52.7317258, 6.4805005), (52.6451823, 6.5619746), (52.7076437, 6.8524624), (52.8475795, 6.7480796), (52.648988, 6.618163), (52.753077, 6.7223175), (52.7886241, 6.9004768), (52.7949669, 6.8921849), (52.664781, 6.873665), (52.61062, 6.98082), (52.6068136, 6.6370994), (52.8297109, 7.0257275), (52.8489215, 6.3358447), (52.7112461, 6.5056438), (52.7087636, 6.5064488), (52.773743, 6.880198), (52.7775669, 6.8959788), (52.7721004, 6.8981829), (52.7837563, 6.8943514), (52.6681192, 6.4418673), (52.7957733, 7.2148802), (52.7935906, 6.9350631), (52.1909763, 5.2795551), (52.7195225, 7.0417066), (52.6092565, 6.6671512), (52.9954709, 6.5337875), (52.6601419, 6.7409401), (52.6293577, 6.2074434), (52.8743128, 7.0619809), (52.6142281, 6.6854771), (52.951489, 6.4509646), (52.5859918, 6.4547766), (52.6527501, 6.3844311), (52.6612625, 6.7245711), (52.8834492, 7.0502341), (52.6138631, 6.4360479), (52.9499957, 6.8230445), (52.793915, 6.90146), (52.6735921, 6.7314941), (52.7911952, 6.2800465), (52.7884074, 6.8904361), (52.5757993, 6.5985894), (52.7502356, 6.9454856), (52.9279599, 6.8429475), (52.6948437, 6.201114), (52.8634667, 6.5110573), (53.234221, 6.6256509), (52.7111725, 6.1750052), (52.767103, 6.883305), (52.5387297, 6.6857972), (52.8756483, 6.1912185), (52.1909763, 5.2795551), (52.7821441, 6.8931944), (53.2307582, 6.533709)]\n",
      "                Company name                   Company URL  \\\n",
      "0                   Flink IT        http://www.flinkit.nl/   \n",
      "1                Consult IT!      http://www.consultit.nl/   \n",
      "2                   Mones IT                                 \n",
      "3                Quality ICT          https://www.qict.nl/   \n",
      "4                Koopmans IT   http://www.koopmans-it.net/   \n",
      "..                       ...                           ...   \n",
      "115                  grEw-it        http://www.grew-it.nl/   \n",
      "116                Driven-IT      http://www.driven-it.nl/   \n",
      "117  vd Velde IT Consultancy        https://vdvelde-it.nl/   \n",
      "118               Status 418     https://www.status418.nl/   \n",
      "119            ITR Groningen  https://www.itrgroningen.nl/   \n",
      "\n",
      "                                            Google URL   Latitude  Longitude  \n",
      "0    https://www.google.com/maps/place/Flink+IT/dat...  52.754630   6.919554  \n",
      "1    https://www.google.com/maps/place/Consult+IT!/...  52.774729   6.967581  \n",
      "2    https://www.google.com/maps/place/Mones+IT/dat...  52.844738   6.852898  \n",
      "3    https://www.google.com/maps/place/Quality+ICT/...  52.772250   6.919326  \n",
      "4    https://www.google.com/maps/place/Koopmans+IT/...  52.860129   6.402219  \n",
      "..                                                 ...        ...        ...  \n",
      "115  https://www.google.com/maps/place/grEw-it/data...  52.538730   6.685797  \n",
      "116  https://www.google.com/maps/place/Driven-IT/da...  52.875648   6.191218  \n",
      "117  https://www.google.com/maps/place/vd+Velde+IT+...  52.190976   5.279555  \n",
      "118  https://www.google.com/maps/place/Status+418/d...  52.782144   6.893194  \n",
      "119  https://www.google.com/maps/place/ITR+Groninge...  53.230758   6.533709  \n",
      "\n",
      "[120 rows x 5 columns]\n",
      "Company names: ['Ambulante Zorg', 'Zorggroep Drenthe, Thuiszorg', 'Care Collective Southwest Drenthe', 'Buurtzorg Assen', 'Zorg An Huus', 'Zorg van Oranje', 'Vizier Zorg', 'Senas Zorg', 'Zorggroep Drenthe', 'ArendState - Accolade Zorg']\n",
      "Company URLs: ['http://www.ggzdrenthe.nl/', 'https://www.zorggroepdrenthe.nl/zorg-thuis', 'http://www.zzwd.nl/', 'http://www.buurtzorgnederland.com/', 'https://zorganhuus.nl/', 'http://www.zorgvanoranje.nl/', 'https://vizierzorg.nl/', 'http://www.senaszorg.nl/', 'http://www.zorggroepdrenthe.nl/', 'http://accoladezorg.nl/']\n",
      "Google URLs: ['https://www.google.com/maps/place/Ambulante+Zorg/data=!4m7!3m6!1s0x47c825ae4f8d13c7:0x8523384d842c4f74!8m2!3d52.9818338!4d6.5694267!16s%2Fg%2F11pkbhfmbf!19sChIJxxONT64lyEcRdE8shE04I4U?authuser=0&hl=en&rclk=1', 'https://www.google.com/maps/place/Zorggroep+Drenthe,+Thuiszorg/data=!4m7!3m6!1s0x47c8250fb675de73:0xdd7639138291ee29!8m2!3d53.0073959!4d6.5693491!16s%2Fg%2F11j00rrdz2!19sChIJc951tg8lyEcRKe6RghM5dt0?authuser=0&hl=en&rclk=1', 'https://www.google.com/maps/place/Care+Collective+Southwest+Drenthe/data=!4m7!3m6!1s0x47c86cc806ce9f3f:0x88a338c01cdbdeaa!8m2!3d52.8344598!4d6.3699876!16s%2Fg%2F1v3drckj!19sChIJP5_OBshsyEcRqt7bHMA4o4g?authuser=0&hl=en&rclk=1', 'https://www.google.com/maps/place/Buurtzorg+Assen/data=!4m7!3m6!1s0x47c824c4e744878b:0x87a352623945d59e!8m2!3d52.9878003!4d6.5689463!16s%2Fg%2F11cmysdplv!19sChIJi4dE58QkyEcRntVFOWJSo4c?authuser=0&hl=en&rclk=1', 'https://www.google.com/maps/place/Zorg+An+Huus/data=!4m7!3m6!1s0x45d21237fa4f8605:0x564578879abd521f!8m2!3d52.6850842!4d6.4866882!16s%2Fg%2F11sf7krbyx!19sChIJBYZP-jcS0kURH1K9mod4RVY?authuser=0&hl=en&rclk=1', 'https://www.google.com/maps/place/Zorg+van+Oranje/data=!4m7!3m6!1s0x47c81a8fb4cc4f9f:0x8909c4ae3d7fa16b!8m2!3d52.7196616!4d6.4779915!16s%2Fg%2F11g6nzr4yv!19sChIJn0_MtI8ayEcRa6F_Pa7ECYk?authuser=0&hl=en&rclk=1', 'https://www.google.com/maps/place/Vizier+Zorg/data=!4m7!3m6!1s0x47c81beb019b555d:0xe49d64665ff90e31!8m2!3d52.7207377!4d6.4753587!16s%2Fg%2F11spd7sjj1!19sChIJXVWbAesbyEcRMQ75X2ZkneQ?authuser=0&hl=en&rclk=1', 'https://www.google.com/maps/place/Senas+Zorg/data=!4m7!3m6!1s0x47b7e7e747628e7f:0x80b3bc05593772c0!8m2!3d52.6676931!4d6.4993872!16s%2Fg%2F11c1vqkcjr!19sChIJf45iR-fnt0cRwHI3WQW8s4A?authuser=0&hl=en&rclk=1', 'https://www.google.com/maps/place/Zorggroep+Drenthe/data=!4m7!3m6!1s0x47c8250718f288f7:0x53db52907cd8f897!8m2!3d53.0067864!4d6.5693942!16s%2Fg%2F1vc81158!19sChIJ94jyGAclyEcRl_jYfJBS21M?authuser=0&hl=en&rclk=1', 'https://www.google.com/maps/place/ArendState+-+Accolade+Zorg/data=!4m7!3m6!1s0x47c8251cdc9a5a43:0x7bc7e29a485e024d!8m2!3d52.9971801!4d6.5639448!16s%2Fg%2F11gcpmcl44!19sChIJQ1qa3BwlyEcRTQJeSJrix3s?authuser=0&hl=en&rclk=1']\n",
      "GPS Coordinates: [(52.9818338, 6.5694267), (53.0073959, 6.5693491), (52.8344598, 6.3699876), (52.9878003, 6.5689463), (52.6850842, 6.4866882), (52.7196616, 6.4779915), (52.7207377, 6.4753587), (52.6676931, 6.4993872), (53.0067864, 6.5693942), (52.9971801, 6.5639448)]\n",
      "                        Company name  \\\n",
      "0                     Ambulante Zorg   \n",
      "1       Zorggroep Drenthe, Thuiszorg   \n",
      "2  Care Collective Southwest Drenthe   \n",
      "3                    Buurtzorg Assen   \n",
      "4                       Zorg An Huus   \n",
      "5                    Zorg van Oranje   \n",
      "6                        Vizier Zorg   \n",
      "7                         Senas Zorg   \n",
      "8                  Zorggroep Drenthe   \n",
      "9         ArendState - Accolade Zorg   \n",
      "\n",
      "                                  Company URL  \\\n",
      "0                   http://www.ggzdrenthe.nl/   \n",
      "1  https://www.zorggroepdrenthe.nl/zorg-thuis   \n",
      "2                         http://www.zzwd.nl/   \n",
      "3          http://www.buurtzorgnederland.com/   \n",
      "4                      https://zorganhuus.nl/   \n",
      "5                http://www.zorgvanoranje.nl/   \n",
      "6                      https://vizierzorg.nl/   \n",
      "7                    http://www.senaszorg.nl/   \n",
      "8             http://www.zorggroepdrenthe.nl/   \n",
      "9                     http://accoladezorg.nl/   \n",
      "\n",
      "                                          Google URL   Latitude  Longitude  \n",
      "0  https://www.google.com/maps/place/Ambulante+Zo...  52.981834   6.569427  \n",
      "1  https://www.google.com/maps/place/Zorggroep+Dr...  53.007396   6.569349  \n",
      "2  https://www.google.com/maps/place/Care+Collect...  52.834460   6.369988  \n",
      "3  https://www.google.com/maps/place/Buurtzorg+As...  52.987800   6.568946  \n",
      "4  https://www.google.com/maps/place/Zorg+An+Huus...  52.685084   6.486688  \n",
      "5  https://www.google.com/maps/place/Zorg+van+Ora...  52.719662   6.477991  \n",
      "6  https://www.google.com/maps/place/Vizier+Zorg/...  52.720738   6.475359  \n",
      "7  https://www.google.com/maps/place/Senas+Zorg/d...  52.667693   6.499387  \n",
      "8  https://www.google.com/maps/place/Zorggroep+Dr...  53.006786   6.569394  \n",
      "9  https://www.google.com/maps/place/ArendState+-...  52.997180   6.563945  \n"
     ]
    }
   ],
   "source": [
    "for html_file in html_files:\n",
    "    # Load html content from a file \"IT companies south east Drenthe.html\"\n",
    "    with open(html_file, encoding='utf-8') as file:\n",
    "        html_content = file.read()\n",
    "\n",
    "        # Create a BeautifulSoup object\n",
    "        soup = BeautifulSoup(html_content, 'html.parser')\n",
    "\n",
    "        # Find all parent elements that contain both the title and the URL\n",
    "        parent_elements = soup.find_all(\"div\", class_=\"qBF1Pd fontHeadlineSmall\")\n",
    "\n",
    "        company_names = []  # These are named titles in Google Maps jargon\n",
    "        company_urls = []\n",
    "        seen_urls = {}  # There was a bug in the code that caused duplicate URLs to be added to the list, so we need to keep track of the URLs we have already seen and filter those out. Not the pretiest solution, but it works.\n",
    "        for parent in parent_elements:\n",
    "            title = re.sub(' +', ' ', parent.get_text().replace('\\n', '').strip())\n",
    "            link_tag = parent.find_next(\"a\", class_=\"lcr4fd S9kvJb\")\n",
    "            url = link_tag['href'] if link_tag and 'href' in link_tag.attrs else None\n",
    "            if url in seen_urls:\n",
    "                company_urls[seen_urls[url]] = \"\"\n",
    "            seen_urls[url] = len(company_urls)\n",
    "            company_names.append(title)\n",
    "            company_urls.append(url)\n",
    "\n",
    "        print(\"Company names:\", company_names)\n",
    "        print(\"Company URLs:\", company_urls)\n",
    "\n",
    "        # Find the href in the a tag with class \"hfpxzc\"\n",
    "        google_urls = [link['href'] for link in soup.find_all(\"a\", class_=\"hfpxzc\")]\n",
    "        print(\"Google URLs:\", google_urls)\n",
    "\n",
    "        # Use regular expressions to find latitude and longitude\n",
    "        latitude = [re.search(r'!3d([-.\\d]+)', url) for url in google_urls]\n",
    "        longitude = [re.search(r'!4d([-.\\d]+)', url) for url in google_urls]\n",
    "\n",
    "        # Extract and convert to float\n",
    "        latitude = [float(lat.group(1)) if lat else None for lat in latitude]\n",
    "        longitude = [float(lon.group(1)) if lon else None for lon in longitude]\n",
    "\n",
    "        # Print the GPS coordinates, for debugging purposes\n",
    "        gps_coordinates = [(lat, long) for lat, long in zip(latitude, longitude)]\n",
    "        print(\"GPS Coordinates:\", gps_coordinates)\n",
    "\n",
    "        # Put the data into a pandas DataFrame\n",
    "        df = pd.DataFrame({'Company name': company_names, 'Company URL': company_urls, 'Google URL': google_urls, 'Latitude': latitude, 'Longitude': longitude})\n",
    "        print(df)\n",
    "\n",
    "        # Create directory to store a csv file per html file\n",
    "        os.makedirs('csv', exist_ok=True)\n",
    "\n",
    "        # Save the output to a csv file in the csv directory, using the name of the html file\n",
    "        csv_file = os.path.basename(html_file).replace('.html', '.csv')\n",
    "        df.to_csv(os.path.join('csv', csv_file), index=False)"
   ]
  },
  {
   "cell_type": "markdown",
   "metadata": {},
   "source": [
    "# Visit all Company URLs and see if they have a description"
   ]
  },
  {
   "cell_type": "code",
   "execution_count": 58,
   "metadata": {},
   "outputs": [
    {
     "name": "stdout",
     "output_type": "stream",
     "text": [
      "Request failed for URL: nan, error: Invalid URL 'nan': No scheme supplied. Perhaps you meant https://nan?\n",
      "Request failed for URL: nan, error: Invalid URL 'nan': No scheme supplied. Perhaps you meant https://nan?\n",
      "Request failed for URL: nan, error: Invalid URL 'nan': No scheme supplied. Perhaps you meant https://nan?\n",
      "Request failed for URL: nan, error: Invalid URL 'nan': No scheme supplied. Perhaps you meant https://nan?\n",
      "Request failed for URL: nan, error: Invalid URL 'nan': No scheme supplied. Perhaps you meant https://nan?\n",
      "Request failed for URL: nan, error: Invalid URL 'nan': No scheme supplied. Perhaps you meant https://nan?\n",
      "Request failed for URL: nan, error: Invalid URL 'nan': No scheme supplied. Perhaps you meant https://nan?\n",
      "Request failed for URL: nan, error: Invalid URL 'nan': No scheme supplied. Perhaps you meant https://nan?\n",
      "Request failed for URL: https://itemporium.eu/, error: HTTPSConnectionPool(host='itemporium.eu', port=443): Max retries exceeded with url: / (Caused by SSLError(SSLCertVerificationError(1, '[SSL: CERTIFICATE_VERIFY_FAILED] certificate verify failed: certificate has expired (_ssl.c:1007)')))\n",
      "Request failed for URL: nan, error: Invalid URL 'nan': No scheme supplied. Perhaps you meant https://nan?\n",
      "Request failed for URL: nan, error: Invalid URL 'nan': No scheme supplied. Perhaps you meant https://nan?\n",
      "Request failed for URL: nan, error: Invalid URL 'nan': No scheme supplied. Perhaps you meant https://nan?\n",
      "Request failed for URL: nan, error: Invalid URL 'nan': No scheme supplied. Perhaps you meant https://nan?\n",
      "Request failed for URL: nan, error: Invalid URL 'nan': No scheme supplied. Perhaps you meant https://nan?\n",
      "Request failed for URL: https://www.trends.nl/, error: HTTPSConnectionPool(host='www.trends.nl', port=443): Max retries exceeded with url: / (Caused by SSLError(SSLCertVerificationError(1, '[SSL: CERTIFICATE_VERIFY_FAILED] certificate verify failed: unable to get local issuer certificate (_ssl.c:1007)')))\n",
      "Request failed for URL: nan, error: Invalid URL 'nan': No scheme supplied. Perhaps you meant https://nan?\n",
      "Request failed for URL: nan, error: Invalid URL 'nan': No scheme supplied. Perhaps you meant https://nan?\n",
      "Request failed for URL: nan, error: Invalid URL 'nan': No scheme supplied. Perhaps you meant https://nan?\n",
      "Request failed for URL: nan, error: Invalid URL 'nan': No scheme supplied. Perhaps you meant https://nan?\n",
      "Request failed for URL: nan, error: Invalid URL 'nan': No scheme supplied. Perhaps you meant https://nan?\n",
      "Request failed for URL: nan, error: Invalid URL 'nan': No scheme supplied. Perhaps you meant https://nan?\n",
      "Request failed for URL: nan, error: Invalid URL 'nan': No scheme supplied. Perhaps you meant https://nan?\n",
      "Request failed for URL: https://www.zorggroepdrenthe.nl/zorg-thuis, error: HTTPSConnectionPool(host='www.zorggroepdrenthe.nl', port=443): Max retries exceeded with url: /zorg-thuis (Caused by SSLError(SSLCertVerificationError(1, '[SSL: CERTIFICATE_VERIFY_FAILED] certificate verify failed: unable to get local issuer certificate (_ssl.c:1007)')))\n",
      "Request failed for URL: http://www.zorggroepdrenthe.nl/, error: HTTPSConnectionPool(host='www.zorggroepdrenthe.nl', port=443): Max retries exceeded with url: / (Caused by SSLError(SSLCertVerificationError(1, '[SSL: CERTIFICATE_VERIFY_FAILED] certificate verify failed: unable to get local issuer certificate (_ssl.c:1007)')))\n"
     ]
    }
   ],
   "source": [
    "# Load all csv files in the csv directory\n",
    "csv_files = glob.glob('csv/*.csv')\n",
    "\n",
    "for csv in csv_files:\n",
    "    # Read the CSV file into a DataFrame\n",
    "    df = pd.read_csv(csv)\n",
    "    descriptions = []\n",
    "    \n",
    "    # Iterate over each URL in the 'Company URL' column\n",
    "    for url in df['Company URL']:\n",
    "        if url:\n",
    "            try:\n",
    "                # Send a GET request to the URL\n",
    "                response = requests.get(url)\n",
    "                if response.status_code == 200:\n",
    "                    # Parse the HTML content\n",
    "                    html_content = response.text\n",
    "                    soup = BeautifulSoup(html_content, 'html.parser')\n",
    "                    # Find the meta tag with the name 'description'\n",
    "                    description = soup.find(\"meta\", attrs={\"name\": \"description\"})\n",
    "                    # Append the content of the description meta tag to the descriptions list\n",
    "                    descriptions.append(description['content'] if description else None)\n",
    "                else:\n",
    "                    descriptions.append(None)\n",
    "            except requests.RequestException as e:\n",
    "                # Print the error message if the request fails\n",
    "                print(f\"Request failed for URL: {url}, error: {e}\")\n",
    "                descriptions.append(None)\n",
    "        else:\n",
    "            descriptions.append(None)\n",
    "\n",
    "    # Add the descriptions list as a new column in the DataFrame\n",
    "    df['Description'] = descriptions\n",
    "\n",
    "    # Save the updated DataFrame back to the CSV file\n",
    "    df.to_csv(csv, index=False)"
   ]
  },
  {
   "cell_type": "markdown",
   "metadata": {},
   "source": [
    "# Convert the CSVs to one Excel"
   ]
  },
  {
   "cell_type": "code",
   "execution_count": null,
   "metadata": {},
   "outputs": [],
   "source": [
    "# Load all csv files in the csv directory\n",
    "csv_files = glob.glob('csv/*.csv')\n",
    "\n",
    "# Create an Excel file, that will contain all csv files, each in a separate sheet\n",
    "with pd.ExcelWriter('companies.xlsx') as writer:\n",
    "    for csv in csv_files:\n",
    "        # Read the CSV file into a DataFrame\n",
    "        df = pd.read_csv(csv)\n",
    "        # Get the name of the CSV file (without the directory and extension)\n",
    "        sheet_name = os.path.splitext(os.path.basename(csv))[0]\n",
    "        # Write the DataFrame to the Excel file\n",
    "        df.to_excel(writer, sheet_name=sheet_name, index=False)\n"
   ]
  }
 ],
 "metadata": {
  "kernelspec": {
   "display_name": "Python 3",
   "language": "python",
   "name": "python3"
  },
  "language_info": {
   "codemirror_mode": {
    "name": "ipython",
    "version": 3
   },
   "file_extension": ".py",
   "mimetype": "text/x-python",
   "name": "python",
   "nbconvert_exporter": "python",
   "pygments_lexer": "ipython3",
   "version": "3.10.11"
  }
 },
 "nbformat": 4,
 "nbformat_minor": 2
}
