{
 "cells": [
  {
   "cell_type": "code",
   "execution_count": 90,
   "metadata": {},
   "outputs": [],
   "source": [
    "# import libraries for extracting information from an html page\n",
    "from bs4 import BeautifulSoup\n",
    "import re\n",
    "import pandas as pd"
   ]
  },
  {
   "cell_type": "code",
   "execution_count": 91,
   "metadata": {},
   "outputs": [],
   "source": [
    "file_name = \"IT companies south east Drenthe\""
   ]
  },
  {
   "cell_type": "code",
   "execution_count": 92,
   "metadata": {},
   "outputs": [
    {
     "name": "stdout",
     "output_type": "stream",
     "text": [
      "Cleaned Titles: ('Flink IT', 'Consult IT!', 'Mones IT', 'Quality ICT', 'Koopmans IT', 'ATL IT Diensten', 'ADJUST-IT', 'sense-it BV', 'Emit IT', 'Vechtdal IT', 'Reverse IT', 'Uptodate-IT', 'Veteris IT Services', 'Aalders IT', 'ASM-IT', 'Ready4IT', 'Hoogeveen Laptop Center (Solutions IT Drenthe)', 'MKByte IT services', 'Arcus IT Drenthe', 'Flink It Bv', 'W&T IT Solutions UG', 'Visolity', 'Jellema ITrainingen', 'NLS-IT', 'i-Beheer ®', 'IT-Memo', 'MisterIggy', 'IT Hub', 'Nova IT', 'Just ICT', 'ICTDrenthe', 'MKB IT', 'BinC2 B.V.', 'Business IT-Rent B.V.', 'IT Worxx', 'Gerr-IT', 'Focus ICT B.V.', 'CDM-iT', 'Netwarc ICT Services', 'Kiestra.com', 'Avalon IT', 'BITS Dalen', 'Spreen ICT', 'Heeyoo Hoogeveen', 'IT services', 'I-Datacenter B.V.', 'Gouman IT Solutions', 'Y A F S E C', 'IT Emporium', 'Ping IT Works', 'Akkro ICT', 'Reality ICT', 'ICT Prima', 'Service ICT Sil Sieljes', 'Doornbos Agra-IT', 'Qontrol-it B.V.', 'Ziva IT BV', 'ASM-IT', 'Hartmann Automatisering BV', 'Vuturo ICT B.V.', 'Roma holding bv', 'RSE telecom & ICT Emmen', 'Bp it Solutions', 'PH Automatisering', 'a28 Services', 'Beket Consultancy', 'Nidaros', 'Brakels It', 'Anbizz Consultancy', 'MediaVents Hindriks', 'Huijgen-IT', 'Light Speed Services', 'Erik Bakker Computer Services', '4C Creative CAD CAM Consultants', 'Lucas Computer Services', 'janning networks', 'Trifulent B.V.', 'Bvo-it', 'Nobis-IT', 'Trends ICT Groep', 'Techniekmeister', 'Infracom ICT (Emmen)', 'Clean it now', 'Storage Architects BV', 'ISE ( Internet Service Emmen )', 'Plus Automatisering BV', 'MB-IT GmbH', 'Vereniging WijkKlikEmmerhout', 'Jan Voerman Graphic IT Support', 'Nail It by Willisa', 'JSE ict-experts', 'Yard-it B.V.', 'Euro Discount - Euro Business Coevorden', 'Bloemert IT', 'Solca IT Beveiliging & ICT', 'Vobyte B.V.', 'Michel-IT', 'Helder IT', 'VENOS Computers & ICT-diensten', 'Forcys', 'Fuse IT', 'Raymond Jansen Testconsultancy', 'Kattenberg-IT', 'AllBidigit Group Noord B.V.', 'X-Puter Automatisering', 'Reindeer IT Solutions', 'BDO Emmen, Accountants & Adviseurs', 'Bruinsma ICT', 'Corlido Group', 'Mirage - IT-Management & Consultancy B.V.', 'Neevice IT Solutions', 'PrimaPC', 'IT Service Groningen', 'PHP it', 'HiPro Solutions', 'grEw-it', 'Driven-IT', 'vd Velde IT Consultancy', 'Status 418', 'ITR Groningen')\n",
      "URLs: ('http://www.flinkit.nl/', 'http://www.consultit.nl/', 'https://www.qict.nl/', 'https://www.qict.nl/', 'http://www.koopmans-it.net/', 'http://www.atl-it.nl/', 'https://www.adjust-it.nl/', 'http://www.sense-it.nl/', 'http://www.emit-it.com/', 'http://vechtdal-it.nl/', 'https://reverse-it.net/?utm_source=gmb&utm_medium=organic&utm_campaign=gmb', 'http://www.uptodate-it.nl/', 'http://www.veteris.nl/', 'http://www.aaldersit.nl/', 'http://www.asm-it.nl/', 'http://www.ready4it.nl/', 'https://www.solutions-it.nl/', 'https://m-desk.nl/', 'https://www.arcusit.nl/', 'https://www.wut-it.de/', 'https://www.wut-it.de/', 'http://www.visolity.nl/', 'http://www.jellemaitrainingen.com/', 'http://www.nls-it.nl/', 'http://www.i-beheer.nl/', 'https://www.it-hub.nl/', 'https://www.it-hub.nl/', 'https://www.it-hub.nl/', 'http://www.novait.nl/', 'https://www.just-ict.nl/', 'https://www.ictdrenthe.nl/', 'https://www.mkbit.nl/', 'http://www.binc2.nl/', 'http://www.businessitrent.nl/', 'http://www.itworxx.nl/', 'https://www.gerr-it.online/', 'https://cdm-it.nl/', 'https://cdm-it.nl/', 'http://www.kiestra.com/', 'http://www.kiestra.com/', 'http://www.avalon-it.nl/', 'https://bitsdalen.nl/', 'http://www.spreenict.nl/', 'https://heeyoo.nl/', 'http://www.connectdatacenters.com/', 'http://www.connectdatacenters.com/', 'http://www.gouman-it.nl/', 'https://itemporium.eu/', 'https://itemporium.eu/', 'http://www.pingitworks.nl/', 'http://www.wirelessfarm.nl/', 'https://www.realityict.nl/', 'https://ictprima.nl/', 'http://service-ict.nl/', 'http://www.doornbosagra-it.nl/', 'http://www.qontrol-it.nl/', 'https://www.ziva-it.nl/', 'http://www.hartmannautomatisering.nl/', 'http://www.hartmannautomatisering.nl/', 'http://vuturo.nl/', 'https://www.rsetelecom-ict.nl/', 'https://www.rsetelecom-ict.nl/', 'http://www.phautomatisering.nl/', 'http://www.phautomatisering.nl/', 'https://a28services.com/', 'https://beketconsultancy.nl/', 'http://www.nidaros.nl/', 'https://brakels-it.nl/', 'http://www.anbizz.nl/', 'http://www.mediavents.nl/', 'https://www.huijgen-it.nl/', 'https://www.lightspeedservices.nl/', 'https://4cccc.nl/', 'https://4cccc.nl/', 'http://www.lucascomputers.nl/', 'http://www.janning.info/', 'http://www.arjenroelofs.nl/', 'https://www.nobis-it.nl/', 'https://www.nobis-it.nl/', 'https://www.trends.nl/', 'http://techniekmeister.nl/', 'https://www.infracom.nl/', 'http://www.storagearchitects.nl/', 'http://www.storagearchitects.nl/', 'https://plusautomatisering.nl/?utm_source=google&utm_medium=organic&utm_campaign=gmb', 'https://plusautomatisering.nl/?utm_source=google&utm_medium=organic&utm_campaign=gmb', 'https://www.mb-it.de/', 'http://www.wijkklikemmerhout.nl/', 'http://www.janvoerman.com/', 'https://www.jse.nl/?utm_source=google&utm_medium=organic&utm_campaign=mijnbedrijf', 'https://www.jse.nl/?utm_source=google&utm_medium=organic&utm_campaign=mijnbedrijf', 'https://www.yard-it.nl/', 'http://www.eurodiscount.nl/', 'http://www.bloemert.it/', 'https://www.vobyte.nl/', 'https://www.vobyte.nl/', 'https://www.michel-it.nl/', 'http://www.venos.nl/', 'http://www.venos.nl/', 'https://forcys.nl/', 'https://www.fuse-it.nu/', 'http://www.raymondjansen.nl/', 'http://www.allbidigit.nl/', 'http://www.allbidigit.nl/', 'http://www.x-puter.nl/', 'http://www.reindeer-it.nl/', 'https://www.bdo.nl/nl-nl/locaties/emmen', 'http://bruinsma-ict.nl/', 'https://www.corlidogroup.com/', 'http://www.mirage-it-management.nl/', 'https://www.neevice.nl/', 'http://www.primapc.nl/', 'https://itsgroningen.nl/', 'http://www.php-it.nl/', 'http://www.grew-it.nl/', 'http://www.grew-it.nl/', 'http://www.driven-it.nl/', 'https://vdvelde-it.nl/', 'https://www.status418.nl/', 'https://www.itrgroningen.nl/')\n",
      "                       Title                           URL\n",
      "0                   Flink IT        http://www.flinkit.nl/\n",
      "1                Consult IT!      http://www.consultit.nl/\n",
      "2                   Mones IT          https://www.qict.nl/\n",
      "3                Quality ICT          https://www.qict.nl/\n",
      "4                Koopmans IT   http://www.koopmans-it.net/\n",
      "..                       ...                           ...\n",
      "115                  grEw-it        http://www.grew-it.nl/\n",
      "116                Driven-IT      http://www.driven-it.nl/\n",
      "117  vd Velde IT Consultancy        https://vdvelde-it.nl/\n",
      "118               Status 418     https://www.status418.nl/\n",
      "119            ITR Groningen  https://www.itrgroningen.nl/\n",
      "\n",
      "[120 rows x 2 columns]\n"
     ]
    }
   ],
   "source": [
    "# Load html content from a file \"IT companies south east Drenthe.html\"\n",
    "with open(file_name+\".html\", encoding='utf-8') as file:\n",
    "    html_content = file.read()\n",
    "\n",
    "    # Create a BeautifulSoup object\n",
    "    soup = BeautifulSoup(html_content, 'html.parser')\n",
    "\n",
    "    # Find all parent elements that contain both the title and the URL\n",
    "    parent_elements = soup.find_all(\"div\", class_=\"qBF1Pd fontHeadlineSmall\")\n",
    "\n",
    "    titles_and_urls = []\n",
    "    for parent in parent_elements:\n",
    "        title = re.sub(' +', ' ', parent.get_text().replace('\\n', '').strip())\n",
    "        link_tag = parent.find_next(\"a\", class_=\"lcr4fd S9kvJb\")\n",
    "        url = link_tag['href'] if link_tag and 'href' in link_tag.attrs else None\n",
    "        titles_and_urls.append((title, url))\n",
    "\n",
    "    # Separate titles and URLs\n",
    "    cleaned_titles, urls = zip(*titles_and_urls)\n",
    "\n",
    "    print(\"Cleaned Titles:\", cleaned_titles)\n",
    "    print(\"URLs:\", urls)\n",
    "\n",
    "    # Output cleaned titles and URLs in a pandas table\n",
    "    df = pd.DataFrame(titles_and_urls, columns=['Title', 'URL'])\n",
    "    print(df)\n",
    "    # Save the output to a csv file\n",
    "    df.to_csv(file_name+ '.csv', index=False)"
   ]
  },
  {
   "cell_type": "code",
   "execution_count": 93,
   "metadata": {},
   "outputs": [
    {
     "name": "stdout",
     "output_type": "stream",
     "text": [
      "Request failed for URL: https://itemporium.eu/, error: HTTPSConnectionPool(host='itemporium.eu', port=443): Max retries exceeded with url: / (Caused by SSLError(SSLCertVerificationError(1, '[SSL: CERTIFICATE_VERIFY_FAILED] certificate verify failed: certificate has expired (_ssl.c:1007)')))\n",
      "Request failed for URL: https://itemporium.eu/, error: HTTPSConnectionPool(host='itemporium.eu', port=443): Max retries exceeded with url: / (Caused by SSLError(SSLCertVerificationError(1, '[SSL: CERTIFICATE_VERIFY_FAILED] certificate verify failed: certificate has expired (_ssl.c:1007)')))\n",
      "Request failed for URL: https://www.trends.nl/, error: HTTPSConnectionPool(host='www.trends.nl', port=443): Max retries exceeded with url: / (Caused by SSLError(SSLCertVerificationError(1, '[SSL: CERTIFICATE_VERIFY_FAILED] certificate verify failed: unable to get local issuer certificate (_ssl.c:1007)')))\n",
      "                       Title                           URL  \\\n",
      "0                   Flink IT        http://www.flinkit.nl/   \n",
      "1                Consult IT!      http://www.consultit.nl/   \n",
      "2                   Mones IT          https://www.qict.nl/   \n",
      "3                Quality ICT          https://www.qict.nl/   \n",
      "4                Koopmans IT   http://www.koopmans-it.net/   \n",
      "..                       ...                           ...   \n",
      "115                  grEw-it        http://www.grew-it.nl/   \n",
      "116                Driven-IT      http://www.driven-it.nl/   \n",
      "117  vd Velde IT Consultancy        https://vdvelde-it.nl/   \n",
      "118               Status 418     https://www.status418.nl/   \n",
      "119            ITR Groningen  https://www.itrgroningen.nl/   \n",
      "\n",
      "                                           Description  \n",
      "0    Wij bieden efficiënte IT-oplossingen in Emmen ...  \n",
      "1                                                       \n",
      "2    Helpt jou bewust te worden van cyber security ...  \n",
      "3    Helpt jou bewust te worden van cyber security ...  \n",
      "4            Freelance C# .NET and Sitecore developer.  \n",
      "..                                                 ...  \n",
      "115  grEw-it uw betrouwbare Dynamics365 en Dynamics...  \n",
      "116  Driven-It - Freelance .Net developer en gecert...  \n",
      "117  IT Consultancy - Daily Ops en méér! Zie mijn C...  \n",
      "118  Op zoek naar maatwerk software? Wij bouwen dag...  \n",
      "119  ITR Groningen richt zich op ICT oplossingen en...  \n",
      "\n",
      "[120 rows x 3 columns]\n"
     ]
    }
   ],
   "source": [
    "import requests\n",
    "import pandas as pd\n",
    "from bs4 import BeautifulSoup\n",
    "\n",
    "# Open the csv file and use the urls found in the second column, extract the websites description\n",
    "# and save the output to a new column in the csv file\n",
    "df = pd.read_csv('IT companies south east Drenthe.csv')\n",
    "descriptions = []\n",
    "\n",
    "for url in df['URL']:\n",
    "    if url:\n",
    "        try:\n",
    "            response = requests.get(url)\n",
    "            if response.status_code == 200:\n",
    "                html_content = response.text\n",
    "                soup = BeautifulSoup(html_content, 'html.parser')\n",
    "                description = soup.find(\"meta\", attrs={\"name\": \"description\"})\n",
    "                descriptions.append(description['content'] if description else None)\n",
    "            else:\n",
    "                descriptions.append(None)\n",
    "        except requests.RequestException as e:\n",
    "            print(f\"Request failed for URL: {url}, error: {e}\")\n",
    "            descriptions.append(None)\n",
    "    else:\n",
    "        descriptions.append(None)\n",
    "\n",
    "df['Description'] = descriptions\n",
    "df.to_csv('IT companies south east Drenthe.csv', index=False)\n",
    "print(df)"
   ]
  }
 ],
 "metadata": {
  "kernelspec": {
   "display_name": "Python 3",
   "language": "python",
   "name": "python3"
  },
  "language_info": {
   "codemirror_mode": {
    "name": "ipython",
    "version": 3
   },
   "file_extension": ".py",
   "mimetype": "text/x-python",
   "name": "python",
   "nbconvert_exporter": "python",
   "pygments_lexer": "ipython3",
   "version": "3.10.11"
  }
 },
 "nbformat": 4,
 "nbformat_minor": 2
}
