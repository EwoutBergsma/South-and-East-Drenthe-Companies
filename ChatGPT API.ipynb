{
 "cells": [
  {
   "cell_type": "code",
   "execution_count": 1,
   "id": "a9a3c798",
   "metadata": {
    "height": 351
   },
   "outputs": [
    {
     "name": "stdout",
     "output_type": "stream",
     "text": [
      "CSV file downloaded successfully as 'extracted_texts.csv'\n"
     ]
    }
   ],
   "source": [
    "import requests\n",
    "\n",
    "def download_csv(url, filename):\n",
    "    try:\n",
    "        response = requests.get(url)\n",
    "        response.raise_for_status()  # Raise an error for bad responses (4xx and 5xx)\n",
    "        \n",
    "        with open(filename, 'wb') as file:\n",
    "            file.write(response.content)\n",
    "        \n",
    "        print(f\"CSV file downloaded successfully as '{filename}'\")\n",
    "    except requests.exceptions.RequestException as e:\n",
    "        print(f\"Error downloading the CSV file: {e}\")\n",
    "\n",
    "# Example usage\n",
    "csv_url = \"https://raw.githubusercontent.com/EwoutBergsma/deleteme/refs/heads/main/extracted_texts.csv\"  # Replace with actual CSV URL\n",
    "save_as = \"extracted_texts.csv\"\n",
    "download_csv(csv_url, save_as)\n"
   ]
  },
  {
   "cell_type": "code",
   "execution_count": null,
   "id": "ae331e37",
   "metadata": {
    "height": 421
   },
   "outputs": [],
   "source": [
    "import csv\n",
    "\n",
    "def read_csv(filename):\n",
    "    try:\n",
    "        companies = []\n",
    "        frontpage_texts = []\n",
    "        with open(filename, mode='r', encoding='utf-8') as file:\n",
    "            reader = csv.reader(file)\n",
    "            next(reader, None)  # skip the headers\n",
    "            for row in reader:\n",
    "                companies.append(row[0])\n",
    "                frontpage_texts.append(row[1])\n",
    "                print(row)  # Prints each row as a list\n",
    "            return companies, frontpage_texts\n",
    "    except FileNotFoundError:\n",
    "        print(f\"Error: The file '{filename}' was not found.\")\n",
    "    except Exception as e:\n",
    "        print(f\"An error occurred: {e}\")\n",
    "\n",
    "# Example usage\n",
    "csv_filename = \"extracted_texts.csv\"\n",
    "companies, frontpage_texts = read_csv(csv_filename)\n",
    "\n"
   ]
  },
  {
   "cell_type": "code",
   "execution_count": 11,
   "id": "632fd887",
   "metadata": {
    "height": 334
   },
   "outputs": [],
   "source": [
    "import openai\n",
    "import os\n",
    "\n",
    "from dotenv import load_dotenv, find_dotenv\n",
    "_ = load_dotenv(find_dotenv()) # read local .env file\n",
    "\n",
    "openai.api_key  = os.getenv('OPENAI_API_KEY')\n",
    "\n",
    "def get_completion(prompt, model=\"gpt-3.5-turbo\"): # Andrew mentioned that the prompt/ completion paradigm is preferable for this class\n",
    "    messages = [{\"role\": \"user\", \"content\": prompt}]\n",
    "    response = openai.ChatCompletion.create(\n",
    "        model=model,\n",
    "        messages=messages,\n",
    "        temperature=0, # this is the degree of randomness of the model's output\n",
    "    )\n",
    "    return response.choices[0].message[\"content\"]\n",
    "\n"
   ]
  },
  {
   "cell_type": "code",
   "execution_count": null,
   "id": "dc846d71",
   "metadata": {
    "height": 300
   },
   "outputs": [],
   "source": [
    "# Open a CSV file to write the data\n",
    "with open(\"company_summary.csv\", mode=\"w\", newline=\"\", encoding=\"utf-8\") as file:\n",
    "    writer = csv.writer(file)\n",
    "    # Write header row\n",
    "    writer.writerow([\"Company\", \"ChatGPT Summary\"])\n",
    "    \n",
    "    # Loop through companies and their corresponding frontpage texts\n",
    "    for company, frontpage_text in zip(companies, frontpage_texts):\n",
    "        prompt = f\"The text of the frontpage of a company will be provided, delimited by triple backticks. Please provide a one-sentence summary of the company, merely respond with the summary, do not reply with anything else. ```{frontpage_text}```\"\n",
    "        completion = get_completion(prompt)\n",
    "        # Remove \".html\" from the company name\n",
    "        company_name = company.replace(\".html\", \"\")\n",
    "        \n",
    "        # Write the row to the CSV\n",
    "        writer.writerow([company_name, completion])\n",
    "        print(company_name, completion)"
   ]
  }
 ],
 "metadata": {
  "kernelspec": {
   "display_name": "Python 3 (ipykernel)",
   "language": "python",
   "name": "python3"
  },
  "language_info": {
   "codemirror_mode": {
    "name": "ipython",
    "version": 3
   },
   "file_extension": ".py",
   "mimetype": "text/x-python",
   "name": "python",
   "nbconvert_exporter": "python",
   "pygments_lexer": "ipython3",
   "version": "3.9.19"
  }
 },
 "nbformat": 4,
 "nbformat_minor": 5
}
